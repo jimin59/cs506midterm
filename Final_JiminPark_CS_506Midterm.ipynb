{
  "cells": [
    {
      "cell_type": "code",
      "execution_count": null,
      "metadata": {
        "id": "Oq31GFy9kL7L"
      },
      "outputs": [],
      "source": [
        "import pickle\n",
        "import pandas as pd\n",
        "import seaborn as sns\n",
        "from os.path import exists\n",
        "import matplotlib.pyplot as plt\n",
        "from sklearn.svm import SVC\n",
        "from sklearn.model_selection import train_test_split\n",
        "from sklearn.metrics import accuracy_score, confusion_matrix"
      ]
    },
    {
      "cell_type": "code",
      "source": [
        "from google.colab import drive\n",
        "drive.mount('/content/drive')"
      ],
      "metadata": {
        "colab": {
          "base_uri": "https://localhost:8080/"
        },
        "id": "NMCgDQ9DihlP",
        "outputId": "5bdd020d-4412-499a-b714-cf374c0c6a45"
      },
      "execution_count": null,
      "outputs": [
        {
          "output_type": "stream",
          "name": "stdout",
          "text": [
            "Mounted at /content/drive\n"
          ]
        }
      ]
    },
    {
      "cell_type": "code",
      "execution_count": null,
      "metadata": {
        "id": "6NTbq4uzMWpb"
      },
      "outputs": [],
      "source": [
        "import pickle\n",
        "import pandas as pd\n",
        "import seaborn as sns\n",
        "import matplotlib.pyplot as plt\n",
        "from os.path import exists\n",
        "from sklearn.ensemble import RandomForestClassifier\n",
        "from sklearn.model_selection import train_test_split, GridSearchCV\n",
        "from sklearn.metrics import accuracy_score, confusion_matrix\n",
        "from sklearn.feature_extraction.text import TfidfVectorizer\n",
        "from sklearn.decomposition import PCA\n",
        "from sklearn.preprocessing import MinMaxScaler\n",
        "\n",
        "# Loading the Files\n",
        "trainingSet = pd.read_csv(\"/content/drive/My Drive/Colab Data/cs-506-midterm-fall-2024/train.csv\")\n",
        "testingSet = pd.read_csv(\"/content/drive/My Drive/Colab Data/cs-506-midterm-fall-2024/test.csv\")\n",
        "\n",
        "# Define a function to add features to the dataframes\n",
        "def add_features_to(df, fit=False):\n",
        "    # Basic feature extraction\n",
        "    df['Helpfulness'] = df['HelpfulnessNumerator'] / df['HelpfulnessDenominator']\n",
        "    df['Helpfulness'] = df['Helpfulness'].fillna(0)\n",
        "\n",
        "    # Ensure 'Text' is non-null\n",
        "    df['Text'] = df['Text'].fillna('')\n",
        "\n",
        "    global tfidf_vectorizer, pca\n",
        "    if fit:\n",
        "        tfidf_vectorizer = TfidfVectorizer(max_features=5000)\n",
        "        pca = PCA(n_components=100, random_state=0)\n",
        "        tfidf_matrix = tfidf_vectorizer.fit_transform(df['Text'])\n",
        "        df_pca = pca.fit_transform(tfidf_matrix.toarray())\n",
        "    else:\n",
        "        tfidf_matrix = tfidf_vectorizer.transform(df['Text'])\n",
        "        df_pca = pca.transform(tfidf_matrix.toarray())\n",
        "\n",
        "    # Create DataFrame from PCA-transformed text features\n",
        "    df_pca = pd.DataFrame(df_pca, columns=[f'pca_{i}' for i in range(df_pca.shape[1])])\n",
        "    df = pd.concat([df, df_pca], axis=1).drop(columns=['Text'])\n",
        "\n",
        "    return df"
      ]
    },
    {
      "cell_type": "code",
      "execution_count": null,
      "metadata": {
        "id": "95CbWbv6d-VT"
      },
      "outputs": [],
      "source": [
        "# Load or process the data\n",
        "if exists('/content/drive/My Drive/Colab Data/cs-506-midterm-fall-2024/X_train.csv'):\n",
        "    X_train = pd.read_csv(\"/content/drive/My Drive/Colab Data/cs-506-midterm-fall-2024/X_train.csv\")\n",
        "    X_submission = pd.read_csv(\"/content/drive/My Drive/Colab Data/cs-506-midterm-fall-2024/X_submission.csv\")\n",
        "else:\n",
        "    train = add_features_to(trainingSet, fit=True)\n",
        "    X_submission = add_features_to(pd.merge(train, testingSet, left_on='Id', right_on='Id', how='right'))\n",
        "    X_submission = X_submission.drop(columns=['Score_x']).rename(columns={'Score_y': 'Score'})\n",
        "    X_train = train[train['Score'].notnull()]\n",
        "    X_submission.to_csv(\"/content/drive/My Drive/Colab Data/cs-506-midterm-fall-2024/X_submission.csv\", index=False)\n",
        "    X_train.to_csv(\"/content/drive/My Drive/Colab Data/cs-506-midterm-fall-2024/X_train.csv\", index=False)\n",
        "\n",
        "# Split into training and testing sets\n",
        "X_train, X_test, Y_train, Y_test = train_test_split(\n",
        "    X_train.drop(columns=['Score']),\n",
        "    X_train['Score'],\n",
        "    test_size=0.25,\n",
        "    random_state=0\n",
        ")\n"
      ]
    },
    {
      "cell_type": "code",
      "execution_count": null,
      "metadata": {
        "id": "TTGdIDFwfSMK",
        "colab": {
          "base_uri": "https://localhost:8080/"
        },
        "outputId": "a6b55690-156f-4aa3-92e0-dee5b50929d3"
      },
      "outputs": [
        {
          "output_type": "stream",
          "name": "stdout",
          "text": [
            "Accuracy on testing set =  0.5362178727621346\n"
          ]
        }
      ],
      "source": [
        "from sklearn.ensemble import RandomForestClassifier\n",
        "from sklearn.linear_model import LogisticRegression\n",
        "from sklearn.model_selection import train_test_split, RandomizedSearchCV\n",
        "from sklearn.metrics import accuracy_score, confusion_matrix\n",
        "import seaborn as sns\n",
        "import matplotlib.pyplot as plt\n",
        "\n",
        "\n",
        "# Define a parameter grid for Logistic Regression\n",
        "param_grid = {\n",
        "    'C': [0.1, 1, 10],  # Inverse regularization strength\n",
        "    'max_iter': [100, 200, 300]  # Maximum number of iterations for convergence\n",
        "}\n",
        "\n",
        "# Use RandomizedSearchCV for Logistic Regression\n",
        "logreg_model = LogisticRegression(random_state=0, solver='liblinear')  # Using liblinear for smaller datasets\n",
        "random_search = RandomizedSearchCV(logreg_model, param_distributions=param_grid, n_iter=3, cv=3, scoring='accuracy', random_state=0)\n",
        "random_search.fit(X_train_select, Y_train)\n",
        "\n",
        "# Best model from RandomizedSearch\n",
        "best_logreg_model = random_search.best_estimator_\n",
        "Y_test_predictions = best_logreg_model.predict(X_test_select)\n",
        "\n",
        "# Model Evaluation\n",
        "print(\"Accuracy on testing set = \", accuracy_score(Y_test, Y_test_predictions))"
      ]
    },
    {
      "cell_type": "code",
      "source": [
        "# Confusion Matrix\n",
        "cm = confusion_matrix(Y_test, Y_test_predictions, normalize='true')\n",
        "sns.heatmap(cm, annot=True, cmap=\"Blues\")\n",
        "plt.title('Confusion matrix of the classifier')\n",
        "plt.xlabel('Predicted')\n",
        "plt.ylabel('True')\n",
        "plt.show()\n",
        "\n",
        "# Create submission file\n",
        "X_submission['Score'] = best_logreg_model.predict(X_submission_select)\n",
        "submission = X_submission[['Id', 'Score']]\n",
        "submission.to_csv(\"/content/drive/My Drive/Colab Data/cs-506-midterm-fall-2024/submission.csv\", index=False)\n"
      ],
      "metadata": {
        "colab": {
          "base_uri": "https://localhost:8080/",
          "height": 472
        },
        "id": "gb3iOUeCjpeA",
        "outputId": "af1e4565-0466-42ec-c0ad-a5e92417de6e"
      },
      "execution_count": null,
      "outputs": [
        {
          "output_type": "display_data",
          "data": {
            "text/plain": [
              "<Figure size 640x480 with 2 Axes>"
            ],
            "image/png": "[encoded data removed]"
          },
          "metadata": {}
        }
      ]
    },
    {
      "cell_type": "code",
      "source": [
        "from google.colab import files\n",
        "\n",
        "# Download the submission file\n",
        "files.download(\"/content/drive/My Drive/Colab Data/cs-506-midterm-fall-2024/submission.csv\")\n"
      ],
      "metadata": {
        "colab": {
          "base_uri": "https://localhost:8080/",
          "height": 17
        },
        "id": "nZAbQyMGNLMb",
        "outputId": "e7915a85-7de0-417e-a239-c41f41153341"
      },
      "execution_count": null,
      "outputs": [
        {
          "output_type": "display_data",
          "data": {
            "text/plain": [
              "<IPython.core.display.Javascript object>"
            ],
            "application/javascript": [
              "\n",
              "    async function download(id, filename, size) {\n",
              "      if (!google.colab.kernel.accessAllowed) {\n",
              "        return;\n",
              "      }\n",
              "      const div = document.createElement('div');\n",
              "      const label = document.createElement('label');\n",
              "      label.textContent = `Downloading \"${filename}\": `;\n",
              "      div.appendChild(label);\n",
              "      const progress = document.createElement('progress');\n",
              "      progress.max = size;\n",
              "      div.appendChild(progress);\n",
              "      document.body.appendChild(div);\n",
              "\n",
              "      const buffers = [];\n",
              "      let downloaded = 0;\n",
              "\n",
              "      const channel = await google.colab.kernel.comms.open(id);\n",
              "      // Send a message to notify the kernel that we're ready.\n",
              "      channel.send({})\n",
              "\n",
              "      for await (const message of channel.messages) {\n",
              "        // Send a message to notify the kernel that we're ready.\n",
              "        channel.send({})\n",
              "        if (message.buffers) {\n",
              "          for (const buffer of message.buffers) {\n",
              "            buffers.push(buffer);\n",
              "            downloaded += buffer.byteLength;\n",
              "            progress.value = downloaded;\n",
              "          }\n",
              "        }\n",
              "      }\n",
              "      const blob = new Blob(buffers, {type: 'application/binary'});\n",
              "      const a = document.createElement('a');\n",
              "      a.href = window.URL.createObjectURL(blob);\n",
              "      a.download = filename;\n",
              "      div.appendChild(a);\n",
              "      a.click();\n",
              "      div.remove();\n",
              "    }\n",
              "  "
            ]
          },
          "metadata": {}
        },
        {
          "output_type": "display_data",
          "data": {
            "text/plain": [
              "<IPython.core.display.Javascript object>"
            ],
            "application/javascript": [
              "download(\"download_4aa083a4-f2f2-466d-9eda-c135446ebff5\", \"submission.csv\", 2407528)"
            ]
          },
          "metadata": {}
        }
      ]
    },
    {
      "cell_type": "code",
      "source": [
        "print(trainingSet.head())\n",
        "print()\n",
        "print(testingSet.head())"
      ],
      "metadata": {
        "id": "ESPGkNwk3Kfw",
        "outputId": "963c835f-c13b-4ddc-f9e0-9c46aec4c22b",
        "colab": {
          "base_uri": "https://localhost:8080/"
        }
      },
      "execution_count": null,
      "outputs": [
        {
          "output_type": "stream",
          "name": "stdout",
          "text": [
            "        Id   ProductId          UserId  HelpfulnessNumerator  \\\n",
            "0   914403  B0009W5KHM   AV6QDP8Q0ONK4                     2   \n",
            "1   354887  6303079709  A2I8RXJN80A2D2                     0   \n",
            "2  1407653  B004H0M2XC  A3FHV3RV8Z12E6                     0   \n",
            "3  1377458  B003ZJ9536  A12VLTA3ZHVPUY                     1   \n",
            "4   475323  630574453X  A13NM1PES9OXVN                     2   \n",
            "\n",
            "   HelpfulnessDenominator        Time  \\\n",
            "0                       2  1341014400   \n",
            "1                       0  1168819200   \n",
            "2                       0  1386201600   \n",
            "3                       1  1348704000   \n",
            "4                       3   970012800   \n",
            "\n",
            "                                         Summary  \\\n",
            "0                                  GOOD FUN FILM   \n",
            "1                                   Movie Review   \n",
            "2             When is it a good time to Consent?   \n",
            "3                                          TRUTH   \n",
            "4  Intelligent and bittersweet -- stays with you   \n",
            "\n",
            "                                                Text  Score  \n",
            "0  While most straight to DVD films are not worth...    5.0  \n",
            "1  I have wanted this one for sometime, also.  I ...    5.0  \n",
            "2  Actually this was a pretty darn good indie fil...    4.0  \n",
            "3  Episodes 37 to 72 of the series press on in a ...    5.0  \n",
            "4  I was really impressed with this movie, but wa...    3.0  \n",
            "\n",
            "        Id  Score\n",
            "0  1323432    NaN\n",
            "1  1137299    NaN\n",
            "2  1459366    NaN\n",
            "3   931601    NaN\n",
            "4  1311995    NaN\n"
          ]
        }
      ]
    },
    {
      "cell_type": "code",
      "source": [],
      "metadata": {
        "id": "WS-8zasu3LMp"
      },
      "execution_count": null,
      "outputs": []
    }
  ],
  "metadata": {
    "colab": {
      "provenance": []
    },
    "kernelspec": {
      "display_name": "env",
      "language": "python",
      "name": "python3"
    },
    "language_info": {
      "codemirror_mode": {
        "name": "ipython",
        "version": 3
      },
      "file_extension": ".py",
      "mimetype": "text/x-python",
      "name": "python",
      "nbconvert_exporter": "python",
      "pygments_lexer": "ipython3",
      "version": "3.12.3"
    }
  },
  "nbformat": 4,
  "nbformat_minor": 0
}